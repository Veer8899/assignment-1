{
 "cells": [
  {
   "cell_type": "markdown",
   "id": "52e48f50-98db-4d63-bd4d-26802e86c7d4",
   "metadata": {},
   "source": [
    "Q1. Create one variable containing following type of data:\n",
    "(i)\tstring\n",
    "\n",
    "(ii)\tlist\n",
    "\n",
    "(iii)\tfloat\n",
    "\n",
    "(iv)\ttuple"
   ]
  },
  {
   "cell_type": "code",
   "execution_count": null,
   "id": "f37bf299-8019-42a5-bc5b-e39e65b7e45f",
   "metadata": {},
   "outputs": [],
   "source": [
    "#i.String"
   ]
  },
  {
   "cell_type": "code",
   "execution_count": 8,
   "id": "c77c9fbc-ce18-4984-a64a-e3c49a6300e4",
   "metadata": {},
   "outputs": [],
   "source": [
    "s = 'ram'"
   ]
  },
  {
   "cell_type": "code",
   "execution_count": 9,
   "id": "5df8f1f4-cdfa-4a83-9da6-21ac6ee95948",
   "metadata": {},
   "outputs": [
    {
     "data": {
      "text/plain": [
       "'ram'"
      ]
     },
     "execution_count": 9,
     "metadata": {},
     "output_type": "execute_result"
    }
   ],
   "source": [
    "s"
   ]
  },
  {
   "cell_type": "code",
   "execution_count": 14,
   "id": "026f1653-ec03-418c-b581-185a748ce626",
   "metadata": {},
   "outputs": [
    {
     "data": {
      "text/plain": [
       "str"
      ]
     },
     "execution_count": 14,
     "metadata": {},
     "output_type": "execute_result"
    }
   ],
   "source": [
    "type(s)"
   ]
  },
  {
   "cell_type": "code",
   "execution_count": 10,
   "id": "1d2bf33f-6320-4edd-8c51-c9d001c40792",
   "metadata": {},
   "outputs": [],
   "source": [
    "#ii. list"
   ]
  },
  {
   "cell_type": "code",
   "execution_count": 11,
   "id": "e1de463d-aa40-472b-985d-3d34b6cb3f7a",
   "metadata": {},
   "outputs": [],
   "source": [
    "l = [1,2,3,4,'ram',4j,4.06,True, False]"
   ]
  },
  {
   "cell_type": "code",
   "execution_count": 12,
   "id": "30b7d5f2-662b-405f-b0a7-d6f2724f771d",
   "metadata": {},
   "outputs": [
    {
     "data": {
      "text/plain": [
       "[1, 2, 3, 4, 'ram', 4j, 4.06, True, False]"
      ]
     },
     "execution_count": 12,
     "metadata": {},
     "output_type": "execute_result"
    }
   ],
   "source": [
    "l"
   ]
  },
  {
   "cell_type": "code",
   "execution_count": 13,
   "id": "511f0ab6-4a76-456a-b446-fc52e4cfe077",
   "metadata": {},
   "outputs": [
    {
     "data": {
      "text/plain": [
       "list"
      ]
     },
     "execution_count": 13,
     "metadata": {},
     "output_type": "execute_result"
    }
   ],
   "source": [
    "type(l)"
   ]
  },
  {
   "cell_type": "code",
   "execution_count": null,
   "id": "e9dd8f3a-e6e6-41a8-b112-92b6fd09cedf",
   "metadata": {},
   "outputs": [],
   "source": [
    "#iii. float"
   ]
  },
  {
   "cell_type": "code",
   "execution_count": 23,
   "id": "3ab35a15-c7cc-4dac-baa7-460bb37dac04",
   "metadata": {},
   "outputs": [],
   "source": [
    "f = 5.06"
   ]
  },
  {
   "cell_type": "code",
   "execution_count": 24,
   "id": "3216fc07-3a80-48b3-b36b-da63a5d3581c",
   "metadata": {},
   "outputs": [
    {
     "data": {
      "text/plain": [
       "5.06"
      ]
     },
     "execution_count": 24,
     "metadata": {},
     "output_type": "execute_result"
    }
   ],
   "source": [
    "f"
   ]
  },
  {
   "cell_type": "code",
   "execution_count": 25,
   "id": "d885ddd1-4788-4eb9-9875-ab5db467de59",
   "metadata": {},
   "outputs": [
    {
     "data": {
      "text/plain": [
       "float"
      ]
     },
     "execution_count": 25,
     "metadata": {},
     "output_type": "execute_result"
    }
   ],
   "source": [
    "type(f)"
   ]
  },
  {
   "cell_type": "code",
   "execution_count": 15,
   "id": "557ea8a0-b90f-485f-a63a-95649529e79f",
   "metadata": {},
   "outputs": [],
   "source": [
    "#iv. tuple"
   ]
  },
  {
   "cell_type": "code",
   "execution_count": 16,
   "id": "bccdfce3-f054-45da-a42b-fa9b7bbf450d",
   "metadata": {},
   "outputs": [],
   "source": [
    "x = (1,2,3,4,'raj',4j,54.6,True)"
   ]
  },
  {
   "cell_type": "code",
   "execution_count": 17,
   "id": "192834d4-c183-4499-9722-523e5296eea0",
   "metadata": {},
   "outputs": [
    {
     "data": {
      "text/plain": [
       "(1, 2, 3, 4, 'raj', 4j, 54.6, True)"
      ]
     },
     "execution_count": 17,
     "metadata": {},
     "output_type": "execute_result"
    }
   ],
   "source": [
    "x"
   ]
  },
  {
   "cell_type": "code",
   "execution_count": 18,
   "id": "db1aa3a2-64fe-4550-adeb-4b68c06b8156",
   "metadata": {},
   "outputs": [
    {
     "data": {
      "text/plain": [
       "tuple"
      ]
     },
     "execution_count": 18,
     "metadata": {},
     "output_type": "execute_result"
    }
   ],
   "source": [
    "type(x)"
   ]
  },
  {
   "cell_type": "markdown",
   "id": "e566d564-8c5a-4787-a4ce-420c88aa7f43",
   "metadata": {},
   "source": [
    "Q2.  Given are some following variables containing data:\n",
    "\n",
    "(i)\tvar1 = ‘ ‘\n",
    "\n",
    "(ii)\tvar2 = ‘[ DS , ML , Python]’\n",
    "\n",
    "(iii)\tvar3 = [ ‘DS’ , ’ML’ , ‘Python’ ]\n",
    "\n",
    "(iv)\tvar4 = 1.\n",
    "\n",
    "\n",
    "What will be the data type of the above given variable."
   ]
  },
  {
   "cell_type": "code",
   "execution_count": 26,
   "id": "7ea6080d-7971-4424-8bb9-49e10372b471",
   "metadata": {},
   "outputs": [],
   "source": [
    "#(i) var1 = ‘ ‘"
   ]
  },
  {
   "cell_type": "code",
   "execution_count": 28,
   "id": "ed6f6683-1dc4-4de8-a136-f2a315e2dab0",
   "metadata": {},
   "outputs": [],
   "source": [
    "var1 = ' '"
   ]
  },
  {
   "cell_type": "code",
   "execution_count": 29,
   "id": "a4468be0-d322-459f-bd60-765cdeeb95e0",
   "metadata": {},
   "outputs": [
    {
     "data": {
      "text/plain": [
       "str"
      ]
     },
     "execution_count": 29,
     "metadata": {},
     "output_type": "execute_result"
    }
   ],
   "source": [
    "type(var1)"
   ]
  },
  {
   "cell_type": "code",
   "execution_count": 30,
   "id": "18d0d397-805a-42a1-b1ae-6fa194b91b7a",
   "metadata": {},
   "outputs": [],
   "source": [
    "#(ii) var2 = ‘[ DS , ML , Python]’"
   ]
  },
  {
   "cell_type": "code",
   "execution_count": 33,
   "id": "b72065fa-95f3-4bb0-85c5-b19cc4f803f4",
   "metadata": {},
   "outputs": [],
   "source": [
    "var2 = '[ DS , ML , Python]'"
   ]
  },
  {
   "cell_type": "code",
   "execution_count": 34,
   "id": "1aef6d48-953b-41b2-b0e8-1c53b7b503f2",
   "metadata": {},
   "outputs": [
    {
     "data": {
      "text/plain": [
       "str"
      ]
     },
     "execution_count": 34,
     "metadata": {},
     "output_type": "execute_result"
    }
   ],
   "source": [
    "type(var2)"
   ]
  },
  {
   "cell_type": "code",
   "execution_count": 35,
   "id": "03bfa743-4213-49f1-a999-373242e52e7b",
   "metadata": {},
   "outputs": [],
   "source": [
    "#(iii) var3 = [ ‘DS’ , ’ML’ , ‘Python’ ]"
   ]
  },
  {
   "cell_type": "code",
   "execution_count": 36,
   "id": "fe8bb497-36cf-45a9-88ce-401a6f6105ec",
   "metadata": {},
   "outputs": [],
   "source": [
    "var3 = [ 'DS' , 'ML' , 'Python' ]"
   ]
  },
  {
   "cell_type": "code",
   "execution_count": 37,
   "id": "3d1442d9-292d-4a38-b7f5-8736e24b53a0",
   "metadata": {},
   "outputs": [
    {
     "data": {
      "text/plain": [
       "list"
      ]
     },
     "execution_count": 37,
     "metadata": {},
     "output_type": "execute_result"
    }
   ],
   "source": [
    "type(var3)"
   ]
  },
  {
   "cell_type": "code",
   "execution_count": 38,
   "id": "78157394-6ffe-4aa7-97fc-258b7634e559",
   "metadata": {},
   "outputs": [],
   "source": [
    "#(iv) var4 = 1"
   ]
  },
  {
   "cell_type": "code",
   "execution_count": 39,
   "id": "bdf74a4a-8aa6-4736-a35d-8c6b7d2dff38",
   "metadata": {},
   "outputs": [],
   "source": [
    "var4 = 1"
   ]
  },
  {
   "cell_type": "code",
   "execution_count": 40,
   "id": "2a41d187-d1c6-45a9-baca-4a36402e987b",
   "metadata": {},
   "outputs": [
    {
     "data": {
      "text/plain": [
       "int"
      ]
     },
     "execution_count": 40,
     "metadata": {},
     "output_type": "execute_result"
    }
   ],
   "source": [
    "type(var4)"
   ]
  },
  {
   "cell_type": "markdown",
   "id": "5d5926a2-dcd1-4036-9a65-c0c237df6d3a",
   "metadata": {},
   "source": [
    "Q3. Explain the use of the following operators using an example:\n",
    "\n",
    "(i)\t/\n",
    "\n",
    "(ii)\t% \n",
    "\n",
    "(iii)\t//\n",
    "\n",
    "(iv)\t**"
   ]
  },
  {
   "cell_type": "markdown",
   "id": "062b7853-9a86-4517-999e-963d10b140e3",
   "metadata": {},
   "source": [
    "These all are airthmetic operators which are used with numeric value to perform mathematical operations."
   ]
  },
  {
   "cell_type": "code",
   "execution_count": 41,
   "id": "b316a008-219c-4d9e-a788-d6e9530361dd",
   "metadata": {},
   "outputs": [],
   "source": [
    "#(i) /"
   ]
  },
  {
   "cell_type": "markdown",
   "id": "7248139d-fc78-4e94-8c98-2218ac447c3b",
   "metadata": {},
   "source": [
    "This operator used for division purpose"
   ]
  },
  {
   "cell_type": "code",
   "execution_count": 42,
   "id": "3bdaa708-32a8-47be-ab11-8c3a3eca647f",
   "metadata": {},
   "outputs": [
    {
     "name": "stdout",
     "output_type": "stream",
     "text": [
      "2.0\n"
     ]
    }
   ],
   "source": [
    "a = 10\n",
    "b = 5\n",
    "c = a / b\n",
    "print(c)"
   ]
  },
  {
   "cell_type": "code",
   "execution_count": 44,
   "id": "015869b4-0e09-4e79-bf16-b69b99c48e38",
   "metadata": {},
   "outputs": [],
   "source": [
    "#(ii) %"
   ]
  },
  {
   "cell_type": "markdown",
   "id": "84ebc959-4c58-4ab9-a07c-7290e465e619",
   "metadata": {},
   "source": [
    "This Mod operator is used for finding the remainder after division"
   ]
  },
  {
   "cell_type": "code",
   "execution_count": 45,
   "id": "4178f633-593d-4de3-ba8e-3898375c7acb",
   "metadata": {},
   "outputs": [
    {
     "name": "stdout",
     "output_type": "stream",
     "text": [
      "1\n"
     ]
    }
   ],
   "source": [
    "a = 6\n",
    "b = 5\n",
    "c = a % b\n",
    "print(c)"
   ]
  },
  {
   "cell_type": "code",
   "execution_count": 46,
   "id": "e30d1ae1-83a6-4f67-b5e3-2b0f34a6e75a",
   "metadata": {},
   "outputs": [],
   "source": [
    "#(iii) //"
   ]
  },
  {
   "cell_type": "markdown",
   "id": "1ec54148-b28a-44b6-a2db-c606cb20a387",
   "metadata": {},
   "source": [
    "This floor division operator is similar to division operation but it returns the  largest possible integer and also the value is either less than or equal to the normal division result."
   ]
  },
  {
   "cell_type": "code",
   "execution_count": 50,
   "id": "d8416ae6-ded6-46d8-a08f-301b66277276",
   "metadata": {},
   "outputs": [
    {
     "name": "stdout",
     "output_type": "stream",
     "text": [
      "2.0\n"
     ]
    }
   ],
   "source": [
    "a = 10.5\n",
    "b = 5.2\n",
    "c = a // b\n",
    "print(c)"
   ]
  },
  {
   "cell_type": "code",
   "execution_count": 51,
   "id": "9e324a84-1141-480d-bff0-c1ea5f1ab002",
   "metadata": {},
   "outputs": [],
   "source": [
    "#(iv) **"
   ]
  },
  {
   "cell_type": "markdown",
   "id": "25a7b655-f875-4667-9941-286aaf1fbb5c",
   "metadata": {},
   "source": [
    "This is called power operator which is used for raise the first operand to the power of second operand."
   ]
  },
  {
   "cell_type": "code",
   "execution_count": 52,
   "id": "cd563d4b-3788-4067-8ea8-4b2791cdaee6",
   "metadata": {},
   "outputs": [
    {
     "data": {
      "text/plain": [
       "49"
      ]
     },
     "execution_count": 52,
     "metadata": {},
     "output_type": "execute_result"
    }
   ],
   "source": [
    "7 ** 2"
   ]
  },
  {
   "cell_type": "markdown",
   "id": "c89d309b-2ec3-431d-95f0-68d524250298",
   "metadata": {},
   "source": [
    "Q4. Create a list of length 10 of your choice containing multiple types of data. Using for loop print the\n",
    "element and its data type."
   ]
  },
  {
   "cell_type": "code",
   "execution_count": 54,
   "id": "ca452f79-bfa7-4119-bc2c-cc8ba3c661e7",
   "metadata": {},
   "outputs": [
    {
     "name": "stdout",
     "output_type": "stream",
     "text": [
      "10\n"
     ]
    }
   ],
   "source": [
    "l = [1, 2, 3, 4, 5, 6, 'raj' 'ram', 5j, True, 4.6]\n",
    "print(len(l))"
   ]
  },
  {
   "cell_type": "code",
   "execution_count": 55,
   "id": "c24fa88f-7da9-4a8c-98d1-a8682cfa93b1",
   "metadata": {},
   "outputs": [
    {
     "name": "stdout",
     "output_type": "stream",
     "text": [
      "<class 'int'>\n",
      "<class 'int'>\n",
      "<class 'int'>\n",
      "<class 'int'>\n",
      "<class 'int'>\n",
      "<class 'int'>\n",
      "<class 'str'>\n",
      "<class 'complex'>\n",
      "<class 'bool'>\n",
      "<class 'float'>\n"
     ]
    }
   ],
   "source": [
    "for i in l:\n",
    "    print(type(i))"
   ]
  },
  {
   "cell_type": "markdown",
   "id": "3d383aa1-57fc-4b40-a49c-4f39ba6317d5",
   "metadata": {},
   "source": [
    "Q5. Using a while loop, verify if the number A is purely divisible by number B and if so then how many\n",
    "times it can be divisible."
   ]
  },
  {
   "cell_type": "code",
   "execution_count": 60,
   "id": "487ae065-d3f5-441d-a0ba-fb32efb97137",
   "metadata": {},
   "outputs": [
    {
     "name": "stdout",
     "output_type": "stream",
     "text": [
      "1.0 is divible by number 3 and can be divided 3 times.\n"
     ]
    }
   ],
   "source": [
    "A = 27\n",
    "B = 3\n",
    "count = 0\n",
    "\n",
    "while A % B ==0:\n",
    "    A = A / B\n",
    "    count += 1\n",
    "if count > 0:\n",
    "    print(f\"{A} is divible by number {B} and can be divided {count} times.\")\n",
    "else :\n",
    "    print('A is not divisible by B')"
   ]
  },
  {
   "cell_type": "code",
   "execution_count": 61,
   "id": "923c9880-1932-4c06-9661-28197746a622",
   "metadata": {},
   "outputs": [
    {
     "name": "stdout",
     "output_type": "stream",
     "text": [
      "7 is not divisible by 3\n",
      "9 is divisible by 3\n",
      "12 is divisible by 3\n",
      "15 is divisible by 3\n",
      "18 is divisible by 3\n",
      "23 is not divisible by 3\n",
      "24 is divisible by 3\n",
      "28 is not divisible by 3\n",
      "30 is divisible by 3\n",
      "33 is divisible by 3\n",
      "37 is not divisible by 3\n",
      "38 is not divisible by 3\n",
      "42 is divisible by 3\n",
      "45 is divisible by 3\n",
      "48 is divisible by 3\n",
      "51 is divisible by 3\n",
      "54 is divisible by 3\n",
      "57 is divisible by 3\n",
      "60 is divisible by 3\n",
      "63 is divisible by 3\n",
      "66 is divisible by 3\n",
      "69 is divisible by 3\n",
      "73 is not divisible by 3\n",
      "76 is not divisible by 3\n",
      "79 is not divisible by 3\n"
     ]
    }
   ],
   "source": [
    "l = [7, 9, 12, 15, 18, 23, 24, 28, 30, 33, 37, 38, 42, 45, 48, 51, 54, 57, 60, 63, 66, 69, 73, 76, 79]\n",
    "for i in l:\n",
    "    if i % 3 == 0:  \n",
    "        print(f\"{i} is divisible by 3\")\n",
    "    else :\n",
    "        print(f\"{i} is not divisible by 3\")\n"
   ]
  },
  {
   "cell_type": "markdown",
   "id": "0da8e03d-07bf-45c3-9fb6-eefda8497734",
   "metadata": {},
   "source": [
    "Q7. What do you understand about mutable and immutable data types? Give examples for both showing\n",
    "this property."
   ]
  },
  {
   "cell_type": "code",
   "execution_count": null,
   "id": "cbc6a6e3-3641-49d4-a52f-b598000563e9",
   "metadata": {},
   "outputs": [],
   "source": [
    "#Mutable----\n",
    "#1> It values can be modified after they created.\n",
    "#2> Whatever the change made to a mutable object, it affect the object also,\n",
    "#3> Mutable data types are lists, dict and sets.\n"
   ]
  },
  {
   "cell_type": "code",
   "execution_count": 62,
   "id": "1d5e89dd-db97-4258-bccb-fe32b1374bdd",
   "metadata": {},
   "outputs": [
    {
     "name": "stdout",
     "output_type": "stream",
     "text": [
      "[1, 2, 5, 4]\n"
     ]
    }
   ],
   "source": [
    "x = [1, 2, 3, 4]\n",
    "x[2] = 5 # Modifies the original list by adding a new element\n",
    "print(x)"
   ]
  },
  {
   "cell_type": "code",
   "execution_count": 63,
   "id": "88d584af-856b-4245-9899-d8bc46cf1bc9",
   "metadata": {},
   "outputs": [],
   "source": [
    "#Immutable\n",
    "#1> It values can't be modified once they are created.\n",
    "#2> If we modify an immutable object, it will create a new object with the updated value.\n",
    "#3> Immutable data type are string, int, float, tuple."
   ]
  },
  {
   "cell_type": "code",
   "execution_count": 64,
   "id": "bf7d9b1d-191d-4714-bac4-82c7c18cbcb0",
   "metadata": {},
   "outputs": [
    {
     "ename": "NameError",
     "evalue": "name 'p' is not defined",
     "output_type": "error",
     "traceback": [
      "\u001b[0;31m---------------------------------------------------------------------------\u001b[0m",
      "\u001b[0;31mNameError\u001b[0m                                 Traceback (most recent call last)",
      "Cell \u001b[0;32mIn[64], line 2\u001b[0m\n\u001b[1;32m      1\u001b[0m a \u001b[38;5;241m=\u001b[39m \u001b[38;5;124m\"\u001b[39m\u001b[38;5;124mram\u001b[39m\u001b[38;5;124m\"\u001b[39m\n\u001b[0;32m----> 2\u001b[0m a[\u001b[38;5;241m1\u001b[39m] \u001b[38;5;241m=\u001b[39m \u001b[43mp\u001b[49m\n",
      "\u001b[0;31mNameError\u001b[0m: name 'p' is not defined"
     ]
    }
   ],
   "source": [
    "a = \"ram\"\n",
    "a[1] = p # It values can't be modified once they are created.\n",
    "#here it will throw an error, if we try to change. "
   ]
  },
  {
   "cell_type": "code",
   "execution_count": 69,
   "id": "ad5266f5-ea04-48e3-9888-e74c4d69720c",
   "metadata": {},
   "outputs": [],
   "source": [
    "name = 'ram'\n",
    "my_name = name.upper()"
   ]
  },
  {
   "cell_type": "code",
   "execution_count": 70,
   "id": "706033d6-36d5-40bb-811a-0747eae6d9ff",
   "metadata": {},
   "outputs": [
    {
     "name": "stdout",
     "output_type": "stream",
     "text": [
      "ram\n",
      "RAM\n"
     ]
    }
   ],
   "source": [
    "print(name)#it will return privous value \n",
    "print(my_name)#it will return updated value of the object by creating new object. "
   ]
  },
  {
   "cell_type": "code",
   "execution_count": null,
   "id": "7b71c36d-d40f-4411-82f4-7387c1e55fc6",
   "metadata": {},
   "outputs": [],
   "source": []
  }
 ],
 "metadata": {
  "kernelspec": {
   "display_name": "Python 3 (ipykernel)",
   "language": "python",
   "name": "python3"
  },
  "language_info": {
   "codemirror_mode": {
    "name": "ipython",
    "version": 3
   },
   "file_extension": ".py",
   "mimetype": "text/x-python",
   "name": "python",
   "nbconvert_exporter": "python",
   "pygments_lexer": "ipython3",
   "version": "3.10.8"
  }
 },
 "nbformat": 4,
 "nbformat_minor": 5
}
